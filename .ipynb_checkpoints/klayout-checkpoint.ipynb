{
 "cells": [
  {
   "cell_type": "code",
   "execution_count": 11,
   "id": "53c6010f-bba8-4b0e-8727-8545bafc85df",
   "metadata": {
    "tags": []
   },
   "outputs": [
    {
     "name": "stdout",
     "output_type": "stream",
     "text": [
      "Requirement already satisfied: klayout in /Users/bing/anaconda3/lib/python3.11/site-packages (0.29.8)\n"
     ]
    }
   ],
   "source": [
    "!pip install klayout\n",
    "import klayout.db as db\n",
    "import matplotlib.pyplot as plt\n",
    "import numpy as np\n",
    "#Please change your name HERE!!!!\n",
    "name = \"test\""
   ]
  },
  {
   "cell_type": "code",
   "execution_count": 27,
   "id": "e48ff14b-6ba4-447a-b7e5-a46303704f96",
   "metadata": {
    "tags": []
   },
   "outputs": [],
   "source": [
    "class LayoutBuilder:\n",
    "    def __init__(self):\n",
    "        self.layout, self.topcell = self.create_layout()\n",
    "\n",
    "    def create_layout(self):\n",
    "        layout = db.Layout()\n",
    "        topcell = layout.create_cell(\"TOP\")\n",
    "        return layout, topcell\n",
    "\n",
    "    def trench(self, width, height, layer_index):\n",
    "        # rectangle center\n",
    "        centerX = 0\n",
    "        centerY = 0\n",
    "\n",
    "        # Create a new Layout\n",
    "        trench_layer = self.layout.layer(layer_index, 0)\n",
    "\n",
    "        # create a rectangle\n",
    "        rectangle = db.DBox(centerX - width / 2, centerY - height / 2, centerX + width / 2, centerY + height / 2)\n",
    "        # add the rectangle to the design\n",
    "        self.topcell.shapes(trench_layer).insert(rectangle)\n",
    "        \n",
    "    def qpc(self, numofdots, layer_index):\n",
    "        numofgates  = numofdots+1\n",
    "        cell_length = 2\n",
    "        width       = 40\n",
    "        gatesLayer = self.layout.layer(layer_index,0)\n",
    "        for i in range(numofgates):\n",
    "            gate_y    = side_length/2 + (numofdots-1)*cell_length/2 - i*cell_length\n",
    "            rectangle = db.DBox(centerX-width/2, centerY+gate_y+0.05, centerX+width/2, centerY+gate_y-0.05)\n",
    "            topcell.shapes(gatesLayer).insert(rectangle)\n",
    "\n",
    "    def save_layout(self, filename):\n",
    "        self.layout.write(filename)"
   ]
  },
  {
   "cell_type": "code",
   "execution_count": 30,
   "id": "2e5e6de4-b307-4b0e-9c49-e57cf164baf4",
   "metadata": {
    "tags": []
   },
   "outputs": [],
   "source": [
    "builder = LayoutBuilder()\n",
    "builder.trench(40, 0.39, 0)\n",
    "builder.qpc(3, 1)\n",
    "builder.save_layout(\"test.gds\")"
   ]
  },
  {
   "cell_type": "code",
   "execution_count": null,
   "id": "d003fba1-e4e9-4be2-a8c9-7c3f82f825ed",
   "metadata": {},
   "outputs": [],
   "source": []
  }
 ],
 "metadata": {
  "kernelspec": {
   "display_name": "Python 3 (ipykernel)",
   "language": "python",
   "name": "python3"
  },
  "language_info": {
   "codemirror_mode": {
    "name": "ipython",
    "version": 3
   },
   "file_extension": ".py",
   "mimetype": "text/x-python",
   "name": "python",
   "nbconvert_exporter": "python",
   "pygments_lexer": "ipython3",
   "version": "3.11.4"
  }
 },
 "nbformat": 4,
 "nbformat_minor": 5
}
