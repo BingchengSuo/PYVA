{
 "cells": [
  {
   "cell_type": "code",
   "execution_count": 1,
   "id": "a8f0e2bb-71e7-4247-9be4-e9d8160245cf",
   "metadata": {
    "tags": []
   },
   "outputs": [],
   "source": [
    "import config\n",
    "import pymph\n",
    "import pygds\n",
    "import numpy as np\n",
    "import matplotlib.pyplot as plt"
   ]
  },
  {
   "cell_type": "code",
   "execution_count": 2,
   "id": "02c63646-4d58-43ff-aae7-3a5c7929e0ee",
   "metadata": {
    "tags": []
   },
   "outputs": [],
   "source": [
    "config.numOfGDSlayers      = 6\n",
    "config.gds_addr            = \"double_dot.gds\"\n",
    "config.substrate_layers    = ['InAlAs','InGaAs','InAs','InGaAs','InAlAs']       \n",
    "config.layer_thickness     = np.array([1000, 10.5, 4, 10.5, 120])   \n",
    "config.substrate_size      = 8e3\n",
    "config.dot_depth           = -134.5    \n",
    "config.etch_depth          = -134.5     \n",
    "config.qpc_depth           = 35\n",
    "config.plunger_depth       = -(4+10.5+120-35)\n",
    "config.numOfdots           = 2\n",
    "config.dots_sep            = 2000\n",
    "config.metal_size          = 800\n",
    "config.trench_width        = 120\n",
    "config.trench_chamfer      = config.trench_width/abs(config.etch_depth)\n",
    "config.mph_addr            = \"double_dot.mph\"\n",
    "\n",
    "config.etch_params = [\n",
    "    {\"etch_name\": \"mesa_etch\", \"gdslayerID\": 0}\n",
    "]\n",
    "\n",
    "config.deposit_params = [\n",
    "    {\"thickness\": 4,   \"deposit_name\": 'dot'        , \"gdslayerID\": 5},\n",
    "    {\"thickness\": 100, \"deposit_name\": 'metal'      , \"gdslayerID\": 2},\n",
    "    {\"thickness\": 35,  \"deposit_name\": 'Al2O3'      , \"gdslayerID\": 4},\n",
    "    {\"thickness\": 35,  \"deposit_name\": 'metal_Al2O3', \"gdslayerID\": 2}\n",
    "]\n",
    "\n",
    "config.gate_params = [\n",
    "    {\"gate_depth\": config.qpc_depth,     \"gate_name\": 'QPC',     \"gdslayerID\": 1},\n",
    "    {\"gate_depth\": config.plunger_depth, \"gate_name\": 'Plunger', \"gdslayerID\": 3}\n",
    "]"
   ]
  },
  {
   "cell_type": "code",
   "execution_count": 3,
   "id": "b6f80e5a-f20c-4b37-a418-4843edf2ccde",
   "metadata": {
    "tags": []
   },
   "outputs": [],
   "source": [
    "pygds.gdsBuilder().build()"
   ]
  },
  {
   "cell_type": "code",
   "execution_count": 4,
   "id": "5596e01e-d74f-4958-8fc3-28dfa8c1c3a1",
   "metadata": {
    "tags": []
   },
   "outputs": [
    {
     "name": "stdout",
     "output_type": "stream",
     "text": [
      "building Plunger gates\u001b[K                          \r"
     ]
    }
   ],
   "source": [
    "pymph.build()"
   ]
  },
  {
   "cell_type": "code",
   "execution_count": 3,
   "id": "ce4bc199-40df-4cd4-8fcf-70141c56af14",
   "metadata": {
    "tags": []
   },
   "outputs": [],
   "source": [
    "pymph.study()"
   ]
  },
  {
   "cell_type": "code",
   "execution_count": 6,
   "id": "071384c1-79cb-4a37-8ac2-be9d7fcc3d73",
   "metadata": {
    "tags": []
   },
   "outputs": [
    {
     "data": {
      "text/plain": [
       "array([[1068.31147434, -217.82660527],\n",
       "       [-217.82580149, 1073.92290244]])"
      ]
     },
     "execution_count": 6,
     "metadata": {},
     "output_type": "execute_result"
    }
   ],
   "source": [
    "config.cmatrix * 1e18"
   ]
  },
  {
   "cell_type": "code",
   "execution_count": 9,
   "id": "663ef4af-6acf-4daf-80bd-da2f72f1c018",
   "metadata": {
    "tags": []
   },
   "outputs": [
    {
     "data": {
      "text/plain": [
       "array([[9.76439211e+14, 1.98053732e+14],\n",
       "       [1.98053001e+14, 9.71337151e+14]])"
      ]
     },
     "execution_count": 9,
     "metadata": {},
     "output_type": "execute_result"
    }
   ],
   "source": [
    "np.linalg.inv(config.cmatrix) * "
   ]
  },
  {
   "cell_type": "code",
   "execution_count": 8,
   "id": "e9d4c2e5-dd4a-4b29-a888-3343b5047db4",
   "metadata": {},
   "outputs": [
    {
     "data": {
      "text/plain": [
       "['arr3(1,1,1)', 'arr3(1,2,1)']"
      ]
     },
     "execution_count": 8,
     "metadata": {},
     "output_type": "execute_result"
    }
   ],
   "source": [
    "config.metal"
   ]
  },
  {
   "cell_type": "code",
   "execution_count": null,
   "id": "5458f15a-f322-42dc-ad46-dd8fa5011f8f",
   "metadata": {},
   "outputs": [],
   "source": []
  }
 ],
 "metadata": {
  "kernelspec": {
   "display_name": "Python 3 (ipykernel)",
   "language": "python",
   "name": "python3"
  },
  "language_info": {
   "codemirror_mode": {
    "name": "ipython",
    "version": 3
   },
   "file_extension": ".py",
   "mimetype": "text/x-python",
   "name": "python",
   "nbconvert_exporter": "python",
   "pygments_lexer": "ipython3",
   "version": "3.11.4"
  }
 },
 "nbformat": 4,
 "nbformat_minor": 5
}
