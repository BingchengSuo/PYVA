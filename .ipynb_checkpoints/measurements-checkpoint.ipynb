{
 "cells": [
  {
   "cell_type": "code",
   "execution_count": 2,
   "id": "a8f0e2bb-71e7-4247-9be4-e9d8160245cf",
   "metadata": {
    "tags": []
   },
   "outputs": [],
   "source": [
    "import config\n",
    "import pymph\n",
    "import numpy as np\n",
    "from functions import *\n",
    "import matplotlib.pyplot as plt"
   ]
  },
  {
   "cell_type": "code",
   "execution_count": 3,
   "id": "2cc61146-eb9f-429b-bc0d-1323fd42642f",
   "metadata": {
    "tags": []
   },
   "outputs": [],
   "source": [
    "# model configuration\n",
    "config.numOfGDSlayers      = 6\n",
    "config.gds_addr            = \"double_dot.GDS\"\n",
    "config.substrate_layers    = ['InAlAs','InGaAs','InAs','InGaAs','InAlAs']       \n",
    "config.layer_thickness     = np.array([1500, 10.5, 4, 10.5, 120])      \n",
    "config.dot_depth           = -134.5    \n",
    "config.etch_depth          = -134.5     \n",
    "config.substrate_size      = 40e3\n",
    "config.dots_sep            = 2240\n",
    "config.numOfdots           = 2\n",
    "config.filename            = \"test1.mph\""
   ]
  },
  {
   "cell_type": "code",
   "execution_count": 5,
   "id": "5596e01e-d74f-4958-8fc3-28dfa8c1c3a1",
   "metadata": {
    "tags": []
   },
   "outputs": [
    {
     "name": "stdout",
     "output_type": "stream",
     "text": [
      "done!                 \u001b[K                          \r"
     ]
    }
   ],
   "source": [
    "pymph.build()"
   ]
  },
  {
   "cell_type": "code",
   "execution_count": null,
   "id": "ce4bc199-40df-4cd4-8fcf-70141c56af14",
   "metadata": {},
   "outputs": [],
   "source": [
    "config.modelpy.solve('Study 1')"
   ]
  },
  {
   "cell_type": "code",
   "execution_count": null,
   "id": "68f4fe41-9010-4ce4-9684-a2b0391be0b9",
   "metadata": {},
   "outputs": [],
   "source": [
    "def getCmatrix(numberOfdots):\n",
    "    matrix = np.zeros((numberOfdots,numberOfdots))\n",
    "    for i in range(numberOfdots):\n",
    "        for j in range(numberOfdots):\n",
    "            matrix[i][j] = config.modelpy.evaluate(f'es.Cinv{i+1}{j+1}')\n",
    "    return matrix"
   ]
  },
  {
   "cell_type": "code",
   "execution_count": 38,
   "id": "2f9eac34-a8c1-4efe-8f8b-347a34d47e73",
   "metadata": {
    "tags": []
   },
   "outputs": [
    {
     "data": {
      "text/plain": [
       "array([9.76439211e+14,            nan])"
      ]
     },
     "execution_count": 38,
     "metadata": {},
     "output_type": "execute_result"
    }
   ],
   "source": [
    "config.modelpy.evaluate('es.Cinv11')"
   ]
  },
  {
   "cell_type": "code",
   "execution_count": 46,
   "id": "848095be-3efa-434f-ab7c-151ab512a869",
   "metadata": {
    "tags": []
   },
   "outputs": [
    {
     "data": {
      "text/plain": [
       "array([           nan, 1.98053732e+14])"
      ]
     },
     "execution_count": 46,
     "metadata": {},
     "output_type": "execute_result"
    }
   ],
   "source": [
    "config.modelpy.evaluate('es.Cinv12')"
   ]
  },
  {
   "cell_type": "code",
   "execution_count": 45,
   "id": "2e2939c9-9057-488e-aad8-ac9640d55c79",
   "metadata": {
    "tags": []
   },
   "outputs": [
    {
     "data": {
      "text/plain": [
       "array([1.98053001e+14,            nan])"
      ]
     },
     "execution_count": 45,
     "metadata": {},
     "output_type": "execute_result"
    }
   ],
   "source": [
    "config.modelpy.evaluate('es.Cinv21')"
   ]
  },
  {
   "cell_type": "code",
   "execution_count": 47,
   "id": "4e62f466-f8d9-45cb-8705-9651db612d3f",
   "metadata": {
    "tags": []
   },
   "outputs": [
    {
     "data": {
      "text/plain": [
       "array([[0., 0.],\n",
       "       [0., 0.]])"
      ]
     },
     "execution_count": 47,
     "metadata": {},
     "output_type": "execute_result"
    }
   ],
   "source": [
    "np.zeros((2,2))"
   ]
  },
  {
   "cell_type": "code",
   "execution_count": null,
   "id": "e3553063-659b-45f3-8f61-fc70098dd2d0",
   "metadata": {},
   "outputs": [],
   "source": []
  }
 ],
 "metadata": {
  "kernelspec": {
   "display_name": "Python 3 (ipykernel)",
   "language": "python",
   "name": "python3"
  },
  "language_info": {
   "codemirror_mode": {
    "name": "ipython",
    "version": 3
   },
   "file_extension": ".py",
   "mimetype": "text/x-python",
   "name": "python",
   "nbconvert_exporter": "python",
   "pygments_lexer": "ipython3",
   "version": "3.11.4"
  }
 },
 "nbformat": 4,
 "nbformat_minor": 5
}
