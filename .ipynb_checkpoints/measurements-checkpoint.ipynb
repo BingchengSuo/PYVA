{
 "cells": [
  {
   "cell_type": "code",
   "execution_count": 1,
   "id": "a8f0e2bb-71e7-4247-9be4-e9d8160245cf",
   "metadata": {
    "tags": []
   },
   "outputs": [],
   "source": [
    "import mph\n",
    "import os\n",
    "import time\n",
    "import main\n",
    "import numpy as np\n",
    "import matplotlib.pyplot as plt"
   ]
  },
  {
   "cell_type": "code",
   "execution_count": 2,
   "id": "2cc61146-eb9f-429b-bc0d-1323fd42642f",
   "metadata": {
    "tags": []
   },
   "outputs": [
    {
     "name": "stdout",
     "output_type": "stream",
     "text": [
      "done!\u001b[K the mesh\u001b[Kes\u001b[Kure\u001b[K\r"
     ]
    }
   ],
   "source": [
    "main.build()"
   ]
  },
  {
   "cell_type": "code",
   "execution_count": 5,
   "id": "11ca8cc4-ecb6-4bc0-81c3-f88eee58e87b",
   "metadata": {
    "tags": []
   },
   "outputs": [
    {
     "name": "stdout",
     "output_type": "stream",
     "text": [
      "Test\u001b[K\r"
     ]
    }
   ],
   "source": [
    "print('Tessst', end='\\r')\n",
    "print('Test\\033[K', end='\\r', flush = True)"
   ]
  },
  {
   "cell_type": "code",
   "execution_count": null,
   "id": "5596e01e-d74f-4958-8fc3-28dfa8c1c3a1",
   "metadata": {},
   "outputs": [],
   "source": []
  }
 ],
 "metadata": {
  "kernelspec": {
   "display_name": "Python 3 (ipykernel)",
   "language": "python",
   "name": "python3"
  },
  "language_info": {
   "codemirror_mode": {
    "name": "ipython",
    "version": 3
   },
   "file_extension": ".py",
   "mimetype": "text/x-python",
   "name": "python",
   "nbconvert_exporter": "python",
   "pygments_lexer": "ipython3",
   "version": "3.11.4"
  }
 },
 "nbformat": 4,
 "nbformat_minor": 5
}
