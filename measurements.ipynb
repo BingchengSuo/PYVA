{
 "cells": [
  {
   "cell_type": "code",
   "execution_count": 12,
   "id": "a8f0e2bb-71e7-4247-9be4-e9d8160245cf",
   "metadata": {
    "tags": []
   },
   "outputs": [],
   "source": [
    "import mph\n",
    "import os\n",
    "import time\n",
    "import config\n",
    "import pymph\n",
    "import numpy as np\n",
    "import matplotlib.pyplot as plt"
   ]
  },
  {
   "cell_type": "code",
   "execution_count": 3,
   "id": "2cc61146-eb9f-429b-bc0d-1323fd42642f",
   "metadata": {
    "tags": []
   },
   "outputs": [
    {
     "name": "stdout",
     "output_type": "stream",
     "text": [
      "done!                 \u001b[K                          \r"
     ]
    }
   ],
   "source": [
    "main.build()"
   ]
  },
  {
   "cell_type": "code",
   "execution_count": 13,
   "id": "5596e01e-d74f-4958-8fc3-28dfa8c1c3a1",
   "metadata": {
    "tags": []
   },
   "outputs": [],
   "source": [
    "config.model.study(\"std1\").run()"
   ]
  },
  {
   "cell_type": "code",
   "execution_count": 17,
   "id": "aab2e214-060e-4b98-9d51-4cbdff1bef8c",
   "metadata": {
    "tags": []
   },
   "outputs": [
    {
     "ename": "com.comsol.util.exceptions.FlException",
     "evalue": "Exception:\n\tcom.comsol.util.exceptions.FlException: Unknown node group\nMessages:\n\tUnknown node group.\n\t- Tag: grp1\n",
     "output_type": "error",
     "traceback": [
      "\u001b[0;31m---------------------------------------------------------------------------\u001b[0m",
      "\u001b[0;31mException\u001b[0m                                 Traceback (most recent call last)",
      "File \u001b[0;32mjava.lang.Thread.java:-1\u001b[0m, in \u001b[0;36mjava.lang.Thread.run\u001b[0;34m()\u001b[0m\n",
      "\u001b[0;31mException\u001b[0m: Java Exception",
      "\nThe above exception was the direct cause of the following exception:\n",
      "\u001b[0;31mcom.comsol.util.exceptions.FlException\u001b[0m    Traceback (most recent call last)",
      "Cell \u001b[0;32mIn[17], line 2\u001b[0m\n\u001b[1;32m      1\u001b[0m config\u001b[38;5;241m.\u001b[39mmodel\u001b[38;5;241m.\u001b[39mresult()\n\u001b[0;32m----> 2\u001b[0m config\u001b[38;5;241m.\u001b[39mmodel\u001b[38;5;241m.\u001b[39mnodeGroup(\u001b[38;5;124m\"\u001b[39m\u001b[38;5;124mgrp1\u001b[39m\u001b[38;5;124m\"\u001b[39m)\n\u001b[1;32m      3\u001b[0m config\u001b[38;5;241m.\u001b[39mmodel\u001b[38;5;241m.\u001b[39mevaluationGroup(\u001b[38;5;124m\"\u001b[39m\u001b[38;5;124meg2\u001b[39m\u001b[38;5;124m\"\u001b[39m)\u001b[38;5;241m.\u001b[39mfeature(\u001b[38;5;124m\"\u001b[39m\u001b[38;5;124mgmev1\u001b[39m\u001b[38;5;124m\"\u001b[39m)\n\u001b[1;32m      4\u001b[0m config\u001b[38;5;241m.\u001b[39mmodel\u001b[38;5;241m.\u001b[39mresult()\u001b[38;5;241m.\u001b[39mevaluationGroup(\u001b[38;5;124m\"\u001b[39m\u001b[38;5;124meg2\u001b[39m\u001b[38;5;124m\"\u001b[39m)\u001b[38;5;241m.\u001b[39mrun()\n",
      "\u001b[0;31mcom.comsol.util.exceptions.FlException\u001b[0m: Exception:\n\tcom.comsol.util.exceptions.FlException: Unknown node group\nMessages:\n\tUnknown node group.\n\t- Tag: grp1\n"
     ]
    }
   ],
   "source": [
    "config.model.result()\n",
    "\n",
    "config.model.evaluationGroup(\"eg2\").feature(\"gmev1\")\n",
    "config.model.result().evaluationGroup(\"eg2\").run();"
   ]
  },
  {
   "cell_type": "code",
   "execution_count": null,
   "id": "7c2eff2c-0fc5-4c76-a013-b627830f85c7",
   "metadata": {},
   "outputs": [],
   "source": []
  }
 ],
 "metadata": {
  "kernelspec": {
   "display_name": "Python 3 (ipykernel)",
   "language": "python",
   "name": "python3"
  },
  "language_info": {
   "codemirror_mode": {
    "name": "ipython",
    "version": 3
   },
   "file_extension": ".py",
   "mimetype": "text/x-python",
   "name": "python",
   "nbconvert_exporter": "python",
   "pygments_lexer": "ipython3",
   "version": "3.11.4"
  }
 },
 "nbformat": 4,
 "nbformat_minor": 5
}
