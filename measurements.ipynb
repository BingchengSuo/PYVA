{
 "cells": [
  {
   "cell_type": "code",
   "execution_count": 1,
   "id": "a8f0e2bb-71e7-4247-9be4-e9d8160245cf",
   "metadata": {
    "tags": []
   },
   "outputs": [],
   "source": [
    "import os\n",
    "host_addr = '/Users/bing/Documents/GitHub/PYVA/'\n",
    "os.chdir(host_addr+'pymph')\n",
    "import config\n",
    "import pygds\n",
    "import pymph\n",
    "import numpy as np\n",
    "from scipy.optimize import curve_fit\n",
    "import matplotlib.pyplot as plt"
   ]
  },
  {
   "cell_type": "markdown",
   "id": "0a4ebe07-6db8-420e-8059-ad312fe9ed0d",
   "metadata": {},
   "source": [
    "# double dots\n",
    "* $E_{C_{ii}} = \\frac{C_{ii}}{C_{ii}^2 - C_{ij}^2}$\n",
    "* $E_{C_{ij}} = \\frac{C_{ij}}{C_{ii}^2 - C_{ij}^2}$\n",
    "* reduced capacitance = $\\frac{C_{ij}}{C_{ii}}$\n",
    "* let's model the side length of our QPC to be $l$. when we are changing the length of the QPC, we are also changing the radius of the semiconductor part of the dot $R_{dot}$. The increment can be linked as $\\Delta l = 2\\Delta R_{dot}$"
   ]
  },
  {
   "cell_type": "markdown",
   "id": "ce6aad45-90f2-4bc9-bbec-0a146c674e20",
   "metadata": {
    "tags": []
   },
   "source": [
    "## - with only top gates"
   ]
  },
  {
   "cell_type": "code",
   "execution_count": 2,
   "id": "d2efea2f-2e26-430c-87ec-cf40aca7396d",
   "metadata": {
    "tags": []
   },
   "outputs": [],
   "source": [
    "config.numOfGDSlayers      = 6\n",
    "config.gds_addr            = \"double_dot.gds\"\n",
    "config.substrate_layers    = ['InAlAs','InGaAs','InAs','InGaAs','InAlAs']       \n",
    "config.layer_thickness     = np.array([1500, 10.5, 4, 10.5, 120])   \n",
    "config.substrate_size      = 40e3\n",
    "config.dot_depth           = -134.5    \n",
    "config.etch_depth          = -134.5     \n",
    "config.qpc_depth           = 35\n",
    "config.plunger_depth       = -(4+10.5+120-35)\n",
    "config.numOfdots           = 2\n",
    "config.dots_sep            = 2000\n",
    "config.metal_size          = 800\n",
    "config.trench_width        = 120\n",
    "config.trench_chamfer      = config.trench_width/(2*abs(config.etch_depth)+config.trench_width) \n",
    "config.mph_addr            = \"double_dot.mph\"\n",
    "\n",
    "config.etch_params = [\n",
    "    {\"etch_name\": \"mesa_etch\", \"gdslayerID\": 0}\n",
    "]\n",
    "\n",
    "config.deposit_params = [\n",
    "    {\"thickness\": 4,   \"deposit_name\": 'dot'        , \"gdslayerID\": 5},\n",
    "    {\"thickness\": 100, \"deposit_name\": 'metal'      , \"gdslayerID\": 2},\n",
    "    {\"thickness\": 35,  \"deposit_name\": 'Al2O3'      , \"gdslayerID\": 4},\n",
    "    {\"thickness\": 35,  \"deposit_name\": 'metal_Al2O3', \"gdslayerID\": 2}\n",
    "]\n",
    "\n",
    "config.gate_params = [\n",
    "    {\"gate_depth\": config.qpc_depth,     \"gate_name\": 'QPC',     \"gdslayerID\": 1},\n",
    "    {\"gate_depth\": config.plunger_depth, \"gate_name\": 'Plunger', \"gdslayerID\": 3}\n",
    "]"
   ]
  },
  {
   "cell_type": "code",
   "execution_count": 8,
   "id": "35ca4b14-5b9f-4d71-9037-d3bdccb9db22",
   "metadata": {
    "tags": []
   },
   "outputs": [
    {
     "name": "stdout",
     "output_type": "stream",
     "text": [
      "erroring the mesh     \u001b[K                          \n",
      "erroring the mesh     \u001b[K                          \n",
      "erroring the mesh     \u001b[K                          \n",
      "building the mesh     \u001b[K                          \r"
     ]
    }
   ],
   "source": [
    "N = 21\n",
    "dotarr = np.linspace(1000, 3000, N)\n",
    "ci = np.zeros((N, 2,2))\n",
    "for i,dot in enumerate(dotarr):\n",
    "    try:\n",
    "        config.dots_sep = dot\n",
    "        pygds.gdsBuilder().build()\n",
    "        pymph.build()\n",
    "        pymph.study()\n",
    "        ci[i,:,:] = config.cmatrix * 1e18\n",
    "    except:\n",
    "        print('error')\n",
    "        \n",
    "np.savez(host_addr+'npz/double_dot.npz', dotarr=dotarr, ci=ci)"
   ]
  },
  {
   "cell_type": "markdown",
   "id": "84f0c256-329e-4a9b-9a63-6d1d7305d9bb",
   "metadata": {},
   "source": [
    "## - with full screening gate"
   ]
  },
  {
   "cell_type": "code",
   "execution_count": 2,
   "id": "9a8567bf-b6e5-4d5f-bea0-4f685bb18ce7",
   "metadata": {
    "tags": []
   },
   "outputs": [],
   "source": [
    "config.numOfGDSlayers      = 7\n",
    "config.gds_addr            = host_addr + \"gds/double_dot_fscreen.gds\"\n",
    "config.substrate_layers    = ['InAlAs','InGaAs','InAs','InGaAs','InAlAs']       \n",
    "config.layer_thickness     = np.array([1500, 10.5, 4, 10.5, 120])   \n",
    "config.substrate_size      = 30e3\n",
    "config.dot_depth           = -134.5    \n",
    "config.etch_depth          = -134.5     \n",
    "config.qpc_depth           = 70\n",
    "config.plunger_depth       = -(4+10.5+120-70)\n",
    "config.screen_depth        = 35\n",
    "config.numOfdots           = 2\n",
    "config.dots_sep            = 2000\n",
    "config.metal_size          = 800\n",
    "config.trench_width        = 120\n",
    "config.trench_chamfer      = config.trench_width/(2*abs(config.etch_depth)+config.trench_width) \n",
    "config.mph_addr            = host_addr + \"mph/double_dot_fscreen.mph\"\n",
    "config.mesh                = 3\n",
    "mesh_values                = [3,4]\n",
    "\n",
    "config.etch_params = [\n",
    "    {\"etch_name\": \"mesa_etch\", \"gdslayerID\": 0}\n",
    "]\n",
    "\n",
    "config.deposit_params = [\n",
    "    {\"thickness\": 4,   \"deposit_name\": 'dot'        , \"gdslayerID\": 5},\n",
    "    {\"thickness\": 100, \"deposit_name\": 'metal'      , \"gdslayerID\": 2},\n",
    "    {\"thickness\": 70,  \"deposit_name\": 'Al2O3'      , \"gdslayerID\": 4},\n",
    "    {\"thickness\": 70,  \"deposit_name\": 'metal_Al2O3', \"gdslayerID\": 2},\n",
    "]\n",
    "\n",
    "config.gate_params = [\n",
    "    {\"gate_depth\": config.qpc_depth,     \"gate_name\": 'QPC',     \"gdslayerID\": 1},\n",
    "    {\"gate_depth\": config.plunger_depth, \"gate_name\": 'Plunger', \"gdslayerID\": 3},\n",
    "    {\"gate_depth\": config.screen_depth, \"gate_name\": 'screen', \"gdslayerID\": 6}\n",
    "]"
   ]
  },
  {
   "cell_type": "code",
   "execution_count": 4,
   "id": "50f3ab32-c0b1-4a87-8db3-329e76bb1428",
   "metadata": {
    "tags": []
   },
   "outputs": [
    {
     "name": "stdout",
     "output_type": "stream",
     "text": [
      "0\n",
      "1uilding the mesh     \u001b[K                          \n",
      "2uilding the mesh     \u001b[K                          \n",
      "3uilding the mesh     \u001b[K                          \n",
      "4uilding the mesh     \u001b[K                          \n",
      "5uilding the mesh     \u001b[K                          \n",
      "6uilding the mesh     \u001b[K                          \n",
      "7uilding the mesh     \u001b[K                          \n",
      "8uilding the mesh     \u001b[K                          \n",
      "9uilding the mesh     \u001b[K                          \n",
      "10ilding the mesh     \u001b[K                          \n",
      "11ilding the mesh     \u001b[K                          \n",
      "12ilding the mesh     \u001b[K                          \n",
      "13ilding the mesh     \u001b[K                          \n",
      "14ilding the mesh     \u001b[K                          \n",
      "15ilding the mesh     \u001b[K                          \n",
      "16ilding the mesh     \u001b[K                          \n",
      "17ilding the mesh     \u001b[K                          \n",
      "18ilding the mesh     \u001b[K                          \n",
      "19ilding the mesh     \u001b[K                          \n",
      "20ilding the mesh     \u001b[K                          \n",
      "building the mesh     \u001b[K                          \r"
     ]
    }
   ],
   "source": [
    "N = 21\n",
    "dotarr = np.linspace(1000, 3000, N)\n",
    "ci = np.zeros((N, 2,2))\n",
    "for i,dot in enumerate(dotarr):\n",
    "    print(i)\n",
    "    success = False\n",
    "    for mesh_value in mesh_values:\n",
    "        try:\n",
    "            config.dots_sep = dot\n",
    "            config.mesh = mesh_value\n",
    "            pygds.gdsBuilder().build('screen')\n",
    "            pymph.build()\n",
    "            pymph.study()\n",
    "            ci[i,:,:] = config.cmatrix * 1e18\n",
    "            success = True\n",
    "            break\n",
    "        except:\n",
    "            print('error')\n",
    "np.savez(host_addr+'npz/double_dot_fscreen.npz', dotarr=dotarr, ci=ci)"
   ]
  },
  {
   "cell_type": "markdown",
   "id": "1e7c27c6-8d4b-4419-8652-7f6bde2aef0a",
   "metadata": {
    "tags": []
   },
   "source": [
    "## - partial screening gate"
   ]
  },
  {
   "cell_type": "code",
   "execution_count": 4,
   "id": "0ba5ec5e-adc6-4e89-8e6b-fe361d5c2a9e",
   "metadata": {
    "tags": []
   },
   "outputs": [],
   "source": [
    "config.numOfGDSlayers      = 7\n",
    "config.gds_addr            = host_addr + \"gds/double_dot_pscreen.gds\"\n",
    "config.substrate_layers    = ['InAlAs','InGaAs','InAs','InGaAs','InAlAs']       \n",
    "config.layer_thickness     = np.array([1500, 10.5, 4, 10.5, 120])   \n",
    "config.substrate_size      = 40e3\n",
    "config.dot_depth           = -134.5    \n",
    "config.etch_depth          = -134.5     \n",
    "config.qpc_depth           = 70\n",
    "config.plunger_depth       = -(4+10.5+120-70)\n",
    "config.screen_depth        = 35\n",
    "config.numOfdots           = 2\n",
    "config.dots_sep            = 2000\n",
    "config.metal_size          = 800\n",
    "config.trench_width        = 120\n",
    "config.trench_chamfer      = config.trench_width/(2*abs(config.etch_depth)+config.trench_width) \n",
    "config.mph_addr            = host_addr + \"mph/double_dot_pscreen.mph\"\n",
    "config.mesh                = 3\n",
    "mesh_values                = [2,3,4]\n",
    "\n",
    "config.etch_params = [\n",
    "    {\"etch_name\": \"mesa_etch\", \"gdslayerID\": 0}\n",
    "]\n",
    "\n",
    "config.deposit_params = [\n",
    "    {\"thickness\": 4,   \"deposit_name\": 'dot'        , \"gdslayerID\": 5},\n",
    "    {\"thickness\": 100, \"deposit_name\": 'metal'      , \"gdslayerID\": 2},\n",
    "    {\"thickness\": 70,  \"deposit_name\": 'Al2O3'      , \"gdslayerID\": 4},\n",
    "    {\"thickness\": 70,  \"deposit_name\": 'metal_Al2O3', \"gdslayerID\": 2},\n",
    "]\n",
    "\n",
    "config.gate_params = [\n",
    "    {\"gate_depth\": config.qpc_depth,     \"gate_name\": 'QPC',     \"gdslayerID\": 1},\n",
    "    {\"gate_depth\": config.plunger_depth, \"gate_name\": 'Plunger', \"gdslayerID\": 3},\n",
    "    {\"gate_depth\": config.screen_depth, \"gate_name\": 'screen', \"gdslayerID\": 6}\n",
    "]"
   ]
  },
  {
   "cell_type": "code",
   "execution_count": 5,
   "id": "8ac08749-4f12-49d0-8fd8-5bd413e3f19d",
   "metadata": {
    "tags": []
   },
   "outputs": [
    {
     "name": "stdout",
     "output_type": "stream",
     "text": [
      "errorng up the model\u001b[K\n",
      "errorng up the model\u001b[K\n",
      "errorng up the model\u001b[K\n",
      "errorng up the model\u001b[K\n",
      "errorng up the model\u001b[K\n",
      "errorng up the model\u001b[K\n",
      "errorng up the model\u001b[K\n",
      "errorng up the model\u001b[K\n",
      "errorng up the model\u001b[K\n",
      "errorng up the model\u001b[K\n",
      "errorng up the model\u001b[K\n",
      "errorng up the model\u001b[K\n",
      "errorng up the model\u001b[K\n",
      "errorng up the model\u001b[K\n",
      "errorng up the model\u001b[K\n",
      "errorng up the model\u001b[K\n",
      "errorng up the model\u001b[K\n",
      "errorng up the model\u001b[K\n",
      "errorng up the model\u001b[K\n",
      "errorng up the model\u001b[K\n",
      "errorng up the model\u001b[K\n",
      "errorng up the model\u001b[K\n",
      "errorng up the model\u001b[K\n",
      "errorng up the model\u001b[K\n",
      "errorng up the model\u001b[K\n",
      "errorng up the model\u001b[K\n",
      "errorng up the model\u001b[K\n",
      "errorng up the model\u001b[K\n",
      "errorng up the model\u001b[K\n",
      "errorng up the model\u001b[K\n",
      "errorng up the model\u001b[K\n",
      "errorng up the model\u001b[K\n",
      "errorng up the model\u001b[K\n",
      "errorng up the model\u001b[K\n",
      "errorng up the model\u001b[K\n",
      "errorng up the model\u001b[K\n",
      "errorng up the model\u001b[K\n",
      "errorng up the model\u001b[K\n",
      "errorng up the model\u001b[K\n",
      "errorng up the model\u001b[K\n",
      "errorng up the model\u001b[K\n",
      "errorng up the model\u001b[K\n",
      "errorng up the model\u001b[K\n",
      "errorng up the model\u001b[K\n",
      "errorng up the model\u001b[K\n",
      "errorng up the model\u001b[K\n",
      "errorng up the model\u001b[K\n",
      "errorng up the model\u001b[K\n",
      "errorng up the model\u001b[K\n",
      "errorng up the model\u001b[K\n",
      "errorng up the model\u001b[K\n",
      "errorng up the model\u001b[K\n",
      "errorng up the model\u001b[K\n",
      "errorng up the model\u001b[K\n",
      "errorng up the model\u001b[K\n",
      "errorng up the model\u001b[K\n",
      "errorng up the model\u001b[K\n",
      "errorng up the model\u001b[K\n",
      "errorng up the model\u001b[K\n",
      "errorng up the model\u001b[K\n",
      "errorng up the model\u001b[K\n",
      "errorng up the model\u001b[K\n",
      "errorng up the model\u001b[K\n"
     ]
    }
   ],
   "source": [
    "N = 21\n",
    "dotarr = np.linspace(1000, 3000, N)\n",
    "ci = np.zeros((N, 2,2))\n",
    "for i,dot in enumerate(dotarr):\n",
    "    success = False\n",
    "    for mesh_value in mesh_values:\n",
    "        try:\n",
    "            config.dots_sep = dot\n",
    "            config.mesh = mesh_value\n",
    "            pygds.gdsBuilder().build('pscreen')\n",
    "            pymph.build()\n",
    "            pymph.study()\n",
    "            ci[i,:,:] = config.cmatrix * 1e18\n",
    "            success = True\n",
    "            break\n",
    "        except:\n",
    "            print('error')\n",
    "np.savez(host_addr+'npz/double_dot_pscreen.npz', dotarr=dotarr, ci=ci)"
   ]
  },
  {
   "cell_type": "code",
   "execution_count": null,
   "id": "0354ae5f-eac5-4f66-88b1-8a3b79e8aabf",
   "metadata": {},
   "outputs": [],
   "source": []
  },
  {
   "cell_type": "markdown",
   "id": "3eccfa77-cf92-4c45-ac78-15a120fa0ebd",
   "metadata": {},
   "source": [
    "# Quadruple dots"
   ]
  },
  {
   "cell_type": "markdown",
   "id": "c45a2908-4d74-42d1-9197-41a087160375",
   "metadata": {},
   "source": [
    "## - with only top gates"
   ]
  },
  {
   "cell_type": "code",
   "execution_count": 6,
   "id": "c61bd316-7556-4fa4-8f8b-5c36576dab09",
   "metadata": {
    "tags": []
   },
   "outputs": [],
   "source": [
    "config.numOfGDSlayers      = 6\n",
    "config.gds_addr            = \"double_dot.gds\"\n",
    "config.substrate_layers    = ['InAlAs','InGaAs','InAs','InGaAs','InAlAs']       \n",
    "config.layer_thickness     = np.array([1500, 10.5, 4, 10.5, 120])   \n",
    "config.substrate_size      = 40e3\n",
    "config.dot_depth           = -134.5    \n",
    "config.etch_depth          = -134.5     \n",
    "config.qpc_depth           = 35\n",
    "config.plunger_depth       = -(4+10.5+120-35)\n",
    "config.numOfdots           = 4\n",
    "config.dots_sep            = 2000\n",
    "config.metal_size          = 800\n",
    "config.trench_width        = 120\n",
    "config.trench_chamfer      = config.trench_width/(2*abs(config.etch_depth)+config.trench_width) \n",
    "config.mph_addr            = \"quadruple_dot.mph\"\n",
    "config.mesh                = 3\n",
    "mesh_values                = [2,3,4]\n",
    "\n",
    "config.etch_params = [\n",
    "    {\"etch_name\": \"mesa_etch\", \"gdslayerID\": 0}\n",
    "]\n",
    "\n",
    "config.deposit_params = [\n",
    "    {\"thickness\": 4,   \"deposit_name\": 'dot'        , \"gdslayerID\": 5},\n",
    "    {\"thickness\": 100, \"deposit_name\": 'metal'      , \"gdslayerID\": 2},\n",
    "    {\"thickness\": 35,  \"deposit_name\": 'Al2O3'      , \"gdslayerID\": 4},\n",
    "    {\"thickness\": 35,  \"deposit_name\": 'metal_Al2O3', \"gdslayerID\": 2}\n",
    "]\n",
    "\n",
    "config.gate_params = [\n",
    "    {\"gate_depth\": config.qpc_depth,     \"gate_name\": 'QPC',     \"gdslayerID\": 1},\n",
    "    {\"gate_depth\": config.plunger_depth, \"gate_name\": 'Plunger', \"gdslayerID\": 3}\n",
    "]"
   ]
  },
  {
   "cell_type": "code",
   "execution_count": 7,
   "id": "df4f465d-b705-434a-8799-ab9c07364c4f",
   "metadata": {
    "tags": []
   },
   "outputs": [
    {
     "name": "stdout",
     "output_type": "stream",
     "text": [
      "error\n",
      "error\n",
      "error\n",
      "error\n",
      "error\n",
      "error\n",
      "error\n",
      "error\n",
      "error\n",
      "error\n",
      "error\n",
      "error\n",
      "error\n",
      "error\n",
      "error\n",
      "error\n",
      "error\n",
      "error\n",
      "error\n",
      "error\n",
      "error\n",
      "error\n",
      "error\n",
      "error\n",
      "error\n",
      "error\n",
      "error\n",
      "error\n",
      "error\n",
      "error\n",
      "error\n",
      "error\n",
      "error\n",
      "error\n",
      "error\n",
      "error\n",
      "error\n",
      "error\n",
      "error\n",
      "error\n",
      "error\n",
      "error\n",
      "error\n",
      "error\n",
      "error\n",
      "error\n",
      "error\n",
      "error\n",
      "error\n",
      "error\n",
      "error\n",
      "error\n",
      "error\n",
      "error\n",
      "error\n",
      "error\n",
      "error\n",
      "error\n",
      "error\n",
      "error\n",
      "error\n",
      "error\n",
      "error\n"
     ]
    },
    {
     "ename": "FileNotFoundError",
     "evalue": "[Errno 2] No such file or directory: 'npz/four_dot.npz'",
     "output_type": "error",
     "traceback": [
      "\u001b[0;31m---------------------------------------------------------------------------\u001b[0m",
      "\u001b[0;31mFileNotFoundError\u001b[0m                         Traceback (most recent call last)",
      "Cell \u001b[0;32mIn[7], line 15\u001b[0m\n\u001b[1;32m     13\u001b[0m         \u001b[38;5;28;01mexcept\u001b[39;00m:\n\u001b[1;32m     14\u001b[0m             \u001b[38;5;28mprint\u001b[39m(\u001b[38;5;124m'\u001b[39m\u001b[38;5;124merror\u001b[39m\u001b[38;5;124m'\u001b[39m)\n\u001b[0;32m---> 15\u001b[0m np\u001b[38;5;241m.\u001b[39msavez(\u001b[38;5;124m'\u001b[39m\u001b[38;5;124mnpz/four_dot.npz\u001b[39m\u001b[38;5;124m'\u001b[39m, dotarr\u001b[38;5;241m=\u001b[39mdotarr, ci\u001b[38;5;241m=\u001b[39mci)\n",
      "File \u001b[0;32m<__array_function__ internals>:200\u001b[0m, in \u001b[0;36msavez\u001b[0;34m(*args, **kwargs)\u001b[0m\n",
      "File \u001b[0;32m~/anaconda3/lib/python3.11/site-packages/numpy/lib/npyio.py:615\u001b[0m, in \u001b[0;36msavez\u001b[0;34m(file, *args, **kwds)\u001b[0m\n\u001b[1;32m    531\u001b[0m \u001b[38;5;129m@array_function_dispatch\u001b[39m(_savez_dispatcher)\n\u001b[1;32m    532\u001b[0m \u001b[38;5;28;01mdef\u001b[39;00m \u001b[38;5;21msavez\u001b[39m(file, \u001b[38;5;241m*\u001b[39margs, \u001b[38;5;241m*\u001b[39m\u001b[38;5;241m*\u001b[39mkwds):\n\u001b[1;32m    533\u001b[0m \u001b[38;5;250m    \u001b[39m\u001b[38;5;124;03m\"\"\"Save several arrays into a single file in uncompressed ``.npz`` format.\u001b[39;00m\n\u001b[1;32m    534\u001b[0m \n\u001b[1;32m    535\u001b[0m \u001b[38;5;124;03m    Provide arrays as keyword arguments to store them under the\u001b[39;00m\n\u001b[0;32m   (...)\u001b[0m\n\u001b[1;32m    613\u001b[0m \n\u001b[1;32m    614\u001b[0m \u001b[38;5;124;03m    \"\"\"\u001b[39;00m\n\u001b[0;32m--> 615\u001b[0m     _savez(file, args, kwds, \u001b[38;5;28;01mFalse\u001b[39;00m)\n",
      "File \u001b[0;32m~/anaconda3/lib/python3.11/site-packages/numpy/lib/npyio.py:712\u001b[0m, in \u001b[0;36m_savez\u001b[0;34m(file, args, kwds, compress, allow_pickle, pickle_kwargs)\u001b[0m\n\u001b[1;32m    709\u001b[0m \u001b[38;5;28;01melse\u001b[39;00m:\n\u001b[1;32m    710\u001b[0m     compression \u001b[38;5;241m=\u001b[39m zipfile\u001b[38;5;241m.\u001b[39mZIP_STORED\n\u001b[0;32m--> 712\u001b[0m zipf \u001b[38;5;241m=\u001b[39m zipfile_factory(file, mode\u001b[38;5;241m=\u001b[39m\u001b[38;5;124m\"\u001b[39m\u001b[38;5;124mw\u001b[39m\u001b[38;5;124m\"\u001b[39m, compression\u001b[38;5;241m=\u001b[39mcompression)\n\u001b[1;32m    714\u001b[0m \u001b[38;5;28;01mfor\u001b[39;00m key, val \u001b[38;5;129;01min\u001b[39;00m namedict\u001b[38;5;241m.\u001b[39mitems():\n\u001b[1;32m    715\u001b[0m     fname \u001b[38;5;241m=\u001b[39m key \u001b[38;5;241m+\u001b[39m \u001b[38;5;124m'\u001b[39m\u001b[38;5;124m.npy\u001b[39m\u001b[38;5;124m'\u001b[39m\n",
      "File \u001b[0;32m~/anaconda3/lib/python3.11/site-packages/numpy/lib/npyio.py:103\u001b[0m, in \u001b[0;36mzipfile_factory\u001b[0;34m(file, *args, **kwargs)\u001b[0m\n\u001b[1;32m    101\u001b[0m \u001b[38;5;28;01mimport\u001b[39;00m \u001b[38;5;21;01mzipfile\u001b[39;00m\n\u001b[1;32m    102\u001b[0m kwargs[\u001b[38;5;124m'\u001b[39m\u001b[38;5;124mallowZip64\u001b[39m\u001b[38;5;124m'\u001b[39m] \u001b[38;5;241m=\u001b[39m \u001b[38;5;28;01mTrue\u001b[39;00m\n\u001b[0;32m--> 103\u001b[0m \u001b[38;5;28;01mreturn\u001b[39;00m zipfile\u001b[38;5;241m.\u001b[39mZipFile(file, \u001b[38;5;241m*\u001b[39margs, \u001b[38;5;241m*\u001b[39m\u001b[38;5;241m*\u001b[39mkwargs)\n",
      "File \u001b[0;32m~/anaconda3/lib/python3.11/zipfile.py:1284\u001b[0m, in \u001b[0;36mZipFile.__init__\u001b[0;34m(self, file, mode, compression, allowZip64, compresslevel, strict_timestamps, metadata_encoding)\u001b[0m\n\u001b[1;32m   1282\u001b[0m \u001b[38;5;28;01mwhile\u001b[39;00m \u001b[38;5;28;01mTrue\u001b[39;00m:\n\u001b[1;32m   1283\u001b[0m     \u001b[38;5;28;01mtry\u001b[39;00m:\n\u001b[0;32m-> 1284\u001b[0m         \u001b[38;5;28mself\u001b[39m\u001b[38;5;241m.\u001b[39mfp \u001b[38;5;241m=\u001b[39m io\u001b[38;5;241m.\u001b[39mopen(file, filemode)\n\u001b[1;32m   1285\u001b[0m     \u001b[38;5;28;01mexcept\u001b[39;00m \u001b[38;5;167;01mOSError\u001b[39;00m:\n\u001b[1;32m   1286\u001b[0m         \u001b[38;5;28;01mif\u001b[39;00m filemode \u001b[38;5;129;01min\u001b[39;00m modeDict:\n",
      "\u001b[0;31mFileNotFoundError\u001b[0m: [Errno 2] No such file or directory: 'npz/four_dot.npz'"
     ]
    }
   ],
   "source": [
    "N = 21\n",
    "dotarr = np.linspace(1000, 3000, N)\n",
    "ci = np.zeros((N, 4,4))\n",
    "for i,dot in enumerate(dotarr):\n",
    "    for mesh_value in mesh_values:\n",
    "        try:\n",
    "            config.dots_sep = dot\n",
    "            config.mesh = mesh_value\n",
    "            pygds.gdsBuilder().build()\n",
    "            pymph.build()\n",
    "            pymph.study()\n",
    "            ci[i,:,:] = config.cmatrix * 1e18\n",
    "        except:\n",
    "            print('error')\n",
    "np.savez('npz/four_dot.npz', dotarr=dotarr, ci=ci)"
   ]
  },
  {
   "cell_type": "markdown",
   "id": "04c9e905-1ad7-40d3-845d-cb7866b00566",
   "metadata": {},
   "source": [
    "## - with full screening gate"
   ]
  },
  {
   "cell_type": "code",
   "execution_count": 6,
   "id": "35730766-fbcd-4a2b-8af3-921f98ce72f8",
   "metadata": {
    "tags": []
   },
   "outputs": [],
   "source": [
    "config.numOfGDSlayers      = 7\n",
    "config.gds_addr            = host_addr + \"gds/quadruple_dot_fscreen.gds\"\n",
    "config.substrate_layers    = ['InAlAs','InGaAs','InAs','InGaAs','InAlAs']       \n",
    "config.layer_thickness     = np.array([1500, 10.5, 4, 10.5, 120])   \n",
    "config.substrate_size      = 40e3\n",
    "config.dot_depth           = -134.5    \n",
    "config.etch_depth          = -134.5     \n",
    "config.qpc_depth           = 70\n",
    "config.plunger_depth       = -(4+10.5+120-70)\n",
    "config.screen_depth        = 35\n",
    "config.numOfdots           = 4\n",
    "config.dots_sep            = 2000\n",
    "config.metal_size          = 800\n",
    "config.trench_width        = 120\n",
    "config.trench_chamfer      = config.trench_width/(2*abs(config.etch_depth)+config.trench_width) \n",
    "config.mph_addr            = host_addr + \"mph/quadruple_dot_fscreen.mph\"\n",
    "config.mesh                = 3\n",
    "mesh_values                = [2,3,4]\n",
    "\n",
    "config.etch_params = [\n",
    "    {\"etch_name\": \"mesa_etch\", \"gdslayerID\": 0}\n",
    "]\n",
    "\n",
    "config.deposit_params = [\n",
    "    {\"thickness\": 4,   \"deposit_name\": 'dot'        , \"gdslayerID\": 5},\n",
    "    {\"thickness\": 100, \"deposit_name\": 'metal'      , \"gdslayerID\": 2},\n",
    "    {\"thickness\": 70,  \"deposit_name\": 'Al2O3'      , \"gdslayerID\": 4},\n",
    "    {\"thickness\": 70,  \"deposit_name\": 'metal_Al2O3', \"gdslayerID\": 2},\n",
    "]\n",
    "\n",
    "config.gate_params = [\n",
    "    {\"gate_depth\": config.qpc_depth,     \"gate_name\": 'QPC',     \"gdslayerID\": 1},\n",
    "    {\"gate_depth\": config.plunger_depth, \"gate_name\": 'Plunger', \"gdslayerID\": 3},\n",
    "    {\"gate_depth\": config.screen_depth, \"gate_name\": 'screen', \"gdslayerID\": 6}\n",
    "]"
   ]
  },
  {
   "cell_type": "code",
   "execution_count": 7,
   "id": "92de839b-3a3a-48c1-9585-ddc394a6eb86",
   "metadata": {
    "tags": []
   },
   "outputs": [
    {
     "name": "stdout",
     "output_type": "stream",
     "text": [
      "errorng up the model\u001b[K\n",
      "errorng up the model\u001b[K\n",
      "errorng up the model\u001b[K\n",
      "errorng up the model\u001b[K\n",
      "errorng up the model\u001b[K\n",
      "errorng up the model\u001b[K\n",
      "errorng up the model\u001b[K\n",
      "errorng up the model\u001b[K\n",
      "errorng up the model\u001b[K\n",
      "errorng up the model\u001b[K\n",
      "errorng up the model\u001b[K\n",
      "errorng up the model\u001b[K\n",
      "errorng up the model\u001b[K\n",
      "errorng up the model\u001b[K\n",
      "errorng up the model\u001b[K\n",
      "errorng up the model\u001b[K\n",
      "errorng up the model\u001b[K\n",
      "errorng up the model\u001b[K\n",
      "errorng up the model\u001b[K\n",
      "errorng up the model\u001b[K\n",
      "errorng up the model\u001b[K\n",
      "errorng up the model\u001b[K\n",
      "errorng up the model\u001b[K\n",
      "errorng up the model\u001b[K\n",
      "errorng up the model\u001b[K\n",
      "errorng up the model\u001b[K\n",
      "errorng up the model\u001b[K\n",
      "errorng up the model\u001b[K\n",
      "errorng up the model\u001b[K\n",
      "errorng up the model\u001b[K\n",
      "errorng up the model\u001b[K\n",
      "errorng up the model\u001b[K\n",
      "errorng up the model\u001b[K\n",
      "errorng up the model\u001b[K\n",
      "errorng up the model\u001b[K\n",
      "errorng up the model\u001b[K\n",
      "errorng up the model\u001b[K\n",
      "errorng up the model\u001b[K\n",
      "errorng up the model\u001b[K\n",
      "errorng up the model\u001b[K\n",
      "errorng up the model\u001b[K\n",
      "errorng up the model\u001b[K\n",
      "errorng up the model\u001b[K\n",
      "errorng up the model\u001b[K\n",
      "errorng up the model\u001b[K\n",
      "errorng up the model\u001b[K\n",
      "errorng up the model\u001b[K\n",
      "errorng up the model\u001b[K\n",
      "errorng up the model\u001b[K\n",
      "errorng up the model\u001b[K\n",
      "errorng up the model\u001b[K\n",
      "errorng up the model\u001b[K\n",
      "errorng up the model\u001b[K\n",
      "errorng up the model\u001b[K\n",
      "errorng up the model\u001b[K\n",
      "errorng up the model\u001b[K\n",
      "errorng up the model\u001b[K\n",
      "errorng up the model\u001b[K\n",
      "errorng up the model\u001b[K\n",
      "errorng up the model\u001b[K\n",
      "errorng up the model\u001b[K\n",
      "errorng up the model\u001b[K\n",
      "errorng up the model\u001b[K\n"
     ]
    }
   ],
   "source": [
    "N = 21\n",
    "dotarr = np.linspace(1000, 3000, N)\n",
    "ci = np.zeros((N, 4,4))\n",
    "for i,dot in enumerate(dotarr):\n",
    "    success = False\n",
    "    for mesh_value in mesh_values:\n",
    "        try:\n",
    "            config.dots_sep = dot\n",
    "            config.mesh = mesh_value\n",
    "            pygds.gdsBuilder().build('fscreen')\n",
    "            pymph.build()\n",
    "            pymph.study()\n",
    "            ci[i,:,:] = config.cmatrix * 1e18\n",
    "            success = True\n",
    "            break\n",
    "        except:\n",
    "            print('error')\n",
    "np.savez(host_addr+'npz/quadruple_dot_fscreen.npz', dotarr=dotarr, ci=ci)"
   ]
  },
  {
   "cell_type": "markdown",
   "id": "9fdeba74-d48b-4ca2-8399-68aa2bfdae53",
   "metadata": {},
   "source": [
    "## - partial screening gate"
   ]
  },
  {
   "cell_type": "code",
   "execution_count": 8,
   "id": "b8b2a1cb-214b-488e-85fa-a86c308d28d2",
   "metadata": {
    "tags": []
   },
   "outputs": [],
   "source": [
    "config.numOfGDSlayers      = 7\n",
    "config.gds_addr            = host_addr + \"gds/quadruple_dot_pscreen.gds\"\n",
    "config.substrate_layers    = ['InAlAs','InGaAs','InAs','InGaAs','InAlAs']       \n",
    "config.layer_thickness     = np.array([1500, 10.5, 4, 10.5, 120])   \n",
    "config.substrate_size      = 40e3\n",
    "config.dot_depth           = -134.5    \n",
    "config.etch_depth          = -134.5     \n",
    "config.qpc_depth           = 70\n",
    "config.plunger_depth       = -(4+10.5+120-70)\n",
    "config.screen_depth        = 35\n",
    "config.numOfdots           = 4\n",
    "config.dots_sep            = 2000\n",
    "config.metal_size          = 800\n",
    "config.trench_width        = 120\n",
    "config.trench_chamfer      = config.trench_width/(2*abs(config.etch_depth)+config.trench_width) \n",
    "config.mph_addr            = host_addr + \"mph/quadruple_dot_pscreen.mph\"\n",
    "config.mesh                = 3\n",
    "mesh_values                = [2,3,4]\n",
    "\n",
    "config.etch_params = [\n",
    "    {\"etch_name\": \"mesa_etch\", \"gdslayerID\": 0}\n",
    "]\n",
    "\n",
    "config.deposit_params = [\n",
    "    {\"thickness\": 4,   \"deposit_name\": 'dot'        , \"gdslayerID\": 5},\n",
    "    {\"thickness\": 100, \"deposit_name\": 'metal'      , \"gdslayerID\": 2},\n",
    "    {\"thickness\": 70,  \"deposit_name\": 'Al2O3'      , \"gdslayerID\": 4},\n",
    "    {\"thickness\": 70,  \"deposit_name\": 'metal_Al2O3', \"gdslayerID\": 2},\n",
    "]\n",
    "\n",
    "config.gate_params = [\n",
    "    {\"gate_depth\": config.qpc_depth,     \"gate_name\": 'QPC',     \"gdslayerID\": 1},\n",
    "    {\"gate_depth\": config.plunger_depth, \"gate_name\": 'Plunger', \"gdslayerID\": 3},\n",
    "    {\"gate_depth\": config.screen_depth, \"gate_name\": 'screen', \"gdslayerID\": 6}\n",
    "]"
   ]
  },
  {
   "cell_type": "code",
   "execution_count": 9,
   "id": "6b59aecf-d415-4610-a3fa-3638096b2d6d",
   "metadata": {
    "tags": []
   },
   "outputs": [
    {
     "ename": "IndentationError",
     "evalue": "expected an indented block after 'for' statement on line 6 (725068530.py, line 7)",
     "output_type": "error",
     "traceback": [
      "\u001b[0;36m  Cell \u001b[0;32mIn[9], line 7\u001b[0;36m\u001b[0m\n\u001b[0;31m    try:\u001b[0m\n\u001b[0m    ^\u001b[0m\n\u001b[0;31mIndentationError\u001b[0m\u001b[0;31m:\u001b[0m expected an indented block after 'for' statement on line 6\n"
     ]
    }
   ],
   "source": [
    "N = 21\n",
    "dotarr = np.linspace(1000, 3000, N)\n",
    "ci = np.zeros((N, 4,4))\n",
    "for i,dot in enumerate(dotarr):\n",
    "    success = False\n",
    "    for mesh_value in mesh_values:\n",
    "        try:\n",
    "            config.dots_sep = dot\n",
    "            pygds.gdsBuilder().build('pscreen')\n",
    "            pymph.build()\n",
    "            pymph.study()\n",
    "            ci[i,:,:] = config.cmatrix * 1e18\n",
    "            success = True\n",
    "            break\n",
    "        except:\n",
    "            print('error')\n",
    "np.savez(host_addr+'npz/quadruple_dot_pscreen.npz', dotarr=dotarr, ci=ci)"
   ]
  },
  {
   "cell_type": "code",
   "execution_count": null,
   "id": "a112852e-5975-47a7-9c89-0e4c1c2f8fb0",
   "metadata": {},
   "outputs": [],
   "source": []
  }
 ],
 "metadata": {
  "kernelspec": {
   "display_name": "Python 3 (ipykernel)",
   "language": "python",
   "name": "python3"
  },
  "language_info": {
   "codemirror_mode": {
    "name": "ipython",
    "version": 3
   },
   "file_extension": ".py",
   "mimetype": "text/x-python",
   "name": "python",
   "nbconvert_exporter": "python",
   "pygments_lexer": "ipython3",
   "version": "3.11.4"
  }
 },
 "nbformat": 4,
 "nbformat_minor": 5
}
