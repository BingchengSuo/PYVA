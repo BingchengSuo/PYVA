{
 "cells": [
  {
   "cell_type": "code",
   "execution_count": 1,
   "id": "a8f0e2bb-71e7-4247-9be4-e9d8160245cf",
   "metadata": {
    "tags": []
   },
   "outputs": [],
   "source": [
    "import config\n",
    "import pymph\n",
    "import numpy as np\n",
    "import matplotlib.pyplot as plt"
   ]
  },
  {
   "cell_type": "code",
   "execution_count": 2,
   "id": "5596e01e-d74f-4958-8fc3-28dfa8c1c3a1",
   "metadata": {
    "tags": []
   },
   "outputs": [
    {
     "name": "stdout",
     "output_type": "stream",
     "text": [
      "done!                 \u001b[K                          \r"
     ]
    }
   ],
   "source": [
    "pymph.build()"
   ]
  },
  {
   "cell_type": "code",
   "execution_count": null,
   "id": "ce4bc199-40df-4cd4-8fcf-70141c56af14",
   "metadata": {
    "tags": []
   },
   "outputs": [],
   "source": [
    "pymph.study()"
   ]
  },
  {
   "cell_type": "code",
   "execution_count": null,
   "id": "071384c1-79cb-4a37-8ac2-be9d7fcc3d73",
   "metadata": {
    "tags": []
   },
   "outputs": [],
   "source": [
    "config.cmatrix * 1e18"
   ]
  },
  {
   "cell_type": "code",
   "execution_count": null,
   "id": "663ef4af-6acf-4daf-80bd-da2f72f1c018",
   "metadata": {},
   "outputs": [],
   "source": []
  }
 ],
 "metadata": {
  "kernelspec": {
   "display_name": "Python 3 (ipykernel)",
   "language": "python",
   "name": "python3"
  },
  "language_info": {
   "codemirror_mode": {
    "name": "ipython",
    "version": 3
   },
   "file_extension": ".py",
   "mimetype": "text/x-python",
   "name": "python",
   "nbconvert_exporter": "python",
   "pygments_lexer": "ipython3",
   "version": "3.11.4"
  }
 },
 "nbformat": 4,
 "nbformat_minor": 5
}
