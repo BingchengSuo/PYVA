{
 "cells": [
  {
   "cell_type": "code",
   "execution_count": 6,
   "id": "a8f0e2bb-71e7-4247-9be4-e9d8160245cf",
   "metadata": {
    "tags": []
   },
   "outputs": [],
   "source": [
    "import os\n",
    "host_addr = '/Users/bing/Documents/GitHub/PYVA/'\n",
    "os.chdir(host_addr+'pymph')\n",
    "import config\n",
    "import pygds\n",
    "import pymph\n",
    "import numpy as np\n",
    "from scipy.optimize import curve_fit\n",
    "import matplotlib.pyplot as plt"
   ]
  },
  {
   "cell_type": "markdown",
   "id": "0a4ebe07-6db8-420e-8059-ad312fe9ed0d",
   "metadata": {},
   "source": [
    "# double dots\n",
    "* $E_{C_{ii}} = \\frac{C_{ii}}{C_{ii}^2 - C_{ij}^2}$\n",
    "* $E_{C_{ij}} = \\frac{C_{ij}}{C_{ii}^2 - C_{ij}^2}$\n",
    "* reduced capacitance = $\\frac{C_{ij}}{C_{ii}}$\n",
    "* let's model the side length of our QPC to be $l$. when we are changing the length of the QPC, we are also changing the radius of the semiconductor part of the dot $R_{dot}$. The increment can be linked as $\\Delta l = 2\\Delta R_{dot}$"
   ]
  },
  {
   "cell_type": "markdown",
   "id": "ce6aad45-90f2-4bc9-bbec-0a146c674e20",
   "metadata": {
    "tags": []
   },
   "source": [
    "## - with only top gates"
   ]
  },
  {
   "cell_type": "code",
   "execution_count": 2,
   "id": "d2efea2f-2e26-430c-87ec-cf40aca7396d",
   "metadata": {
    "tags": []
   },
   "outputs": [],
   "source": [
    "config.numOfGDSlayers      = 6\n",
    "config.gds_addr            = \"double_dot.gds\"\n",
    "config.substrate_layers    = ['InAlAs','InGaAs','InAs','InGaAs','InAlAs']       \n",
    "config.layer_thickness     = np.array([1500, 10.5, 4, 10.5, 120])   \n",
    "config.substrate_size      = 40e3\n",
    "config.dot_depth           = -134.5    \n",
    "config.etch_depth          = -134.5     \n",
    "config.qpc_depth           = 35\n",
    "config.plunger_depth       = -(4+10.5+120-35)\n",
    "config.numOfdots           = 2\n",
    "config.dots_sep            = 2000\n",
    "config.metal_size          = 800\n",
    "config.trench_width        = 120\n",
    "config.trench_chamfer      = config.trench_width/(2*abs(config.etch_depth)+config.trench_width) \n",
    "config.mph_addr            = \"double_dot.mph\"\n",
    "\n",
    "config.etch_params = [\n",
    "    {\"etch_name\": \"mesa_etch\", \"gdslayerID\": 0}\n",
    "]\n",
    "\n",
    "config.deposit_params = [\n",
    "    {\"thickness\": 4,   \"deposit_name\": 'dot'        , \"gdslayerID\": 5},\n",
    "    {\"thickness\": 100, \"deposit_name\": 'metal'      , \"gdslayerID\": 2},\n",
    "    {\"thickness\": 35,  \"deposit_name\": 'Al2O3'      , \"gdslayerID\": 4},\n",
    "    {\"thickness\": 35,  \"deposit_name\": 'metal_Al2O3', \"gdslayerID\": 2}\n",
    "]\n",
    "\n",
    "config.gate_params = [\n",
    "    {\"gate_depth\": config.qpc_depth,     \"gate_name\": 'QPC',     \"gdslayerID\": 1},\n",
    "    {\"gate_depth\": config.plunger_depth, \"gate_name\": 'Plunger', \"gdslayerID\": 3}\n",
    "]"
   ]
  },
  {
   "cell_type": "code",
   "execution_count": 8,
   "id": "35ca4b14-5b9f-4d71-9037-d3bdccb9db22",
   "metadata": {
    "tags": []
   },
   "outputs": [
    {
     "name": "stdout",
     "output_type": "stream",
     "text": [
      "erroring the mesh     \u001b[K                          \n",
      "erroring the mesh     \u001b[K                          \n",
      "erroring the mesh     \u001b[K                          \n",
      "building the mesh     \u001b[K                          \r"
     ]
    }
   ],
   "source": [
    "N = 21\n",
    "dotarr = np.linspace(1000, 3000, N)\n",
    "ci = np.zeros((N, 2,2))\n",
    "for i,dot in enumerate(dotarr):\n",
    "    try:\n",
    "        config.dots_sep = dot\n",
    "        pygds.gdsBuilder().build()\n",
    "        pymph.build()\n",
    "        pymph.study()\n",
    "        ci[i,:,:] = config.cmatrix * 1e18\n",
    "    except:\n",
    "        print('error')\n",
    "        \n",
    "np.savez(host_addr+'npz/double_dot.npz', dotarr=dotarr, ci=ci)"
   ]
  },
  {
   "cell_type": "markdown",
   "id": "84f0c256-329e-4a9b-9a63-6d1d7305d9bb",
   "metadata": {},
   "source": [
    "## - with full screening gate"
   ]
  },
  {
   "cell_type": "code",
   "execution_count": 7,
   "id": "9a8567bf-b6e5-4d5f-bea0-4f685bb18ce7",
   "metadata": {
    "tags": []
   },
   "outputs": [],
   "source": [
    "config.numOfGDSlayers      = 7\n",
    "config.gds_addr            = host_addr + \"gds/double_dot_fscreen.gds\"\n",
    "config.substrate_layers    = ['InAlAs','InGaAs','InAs','InGaAs','InAlAs']       \n",
    "config.layer_thickness     = np.array([1500, 10.5, 4, 10.5, 120])   \n",
    "config.substrate_size      = 40e3\n",
    "config.dot_depth           = -134.5    \n",
    "config.etch_depth          = -134.5     \n",
    "config.qpc_depth           = 70\n",
    "config.plunger_depth       = -(4+10.5+120-70)\n",
    "config.screen_depth        = 35\n",
    "config.numOfdots           = 2\n",
    "config.dots_sep            = 2000\n",
    "config.metal_size          = 800\n",
    "config.trench_width        = 120\n",
    "config.trench_chamfer      = config.trench_width/(2*abs(config.etch_depth)+config.trench_width) \n",
    "config.mph_addr            = host_addr + \"mph/double_dot_fscreen.mph\"\n",
    "\n",
    "config.etch_params = [\n",
    "    {\"etch_name\": \"mesa_etch\", \"gdslayerID\": 0}\n",
    "]\n",
    "\n",
    "config.deposit_params = [\n",
    "    {\"thickness\": 4,   \"deposit_name\": 'dot'        , \"gdslayerID\": 5},\n",
    "    {\"thickness\": 100, \"deposit_name\": 'metal'      , \"gdslayerID\": 2},\n",
    "    {\"thickness\": 35,  \"deposit_name\": 'Al2O3'      , \"gdslayerID\": 4},\n",
    "    {\"thickness\": 35,  \"deposit_name\": 'metal_Al2O3', \"gdslayerID\": 2},\n",
    "    {\"thickness\": 35,  \"deposit_name\": 'Al2O3'      , \"gdslayerID\": 4},\n",
    "    {\"thickness\": 35,  \"deposit_name\": 'metal_Al2O3', \"gdslayerID\": 2}\n",
    "]\n",
    "\n",
    "config.gate_params = [\n",
    "    {\"gate_depth\": config.qpc_depth,     \"gate_name\": 'QPC',     \"gdslayerID\": 1},\n",
    "    {\"gate_depth\": config.plunger_depth, \"gate_name\": 'Plunger', \"gdslayerID\": 3},\n",
    "    {\"gate_depth\": config.screen_depth, \"gate_name\": 'screen', \"gdslayerID\": 6}\n",
    "]"
   ]
  },
  {
   "cell_type": "code",
   "execution_count": 8,
   "id": "50f3ab32-c0b1-4a87-8db3-329e76bb1428",
   "metadata": {
    "tags": []
   },
   "outputs": [
    {
     "name": "stdout",
     "output_type": "stream",
     "text": [
      "erroring the mesh     \u001b[K                          \n",
      "erroring the mesh     \u001b[K                          \n",
      "erroring the mesh     \u001b[K                          \n",
      "erroring the mesh     \u001b[K                          \n",
      "erroring the mesh     \u001b[K                          \n",
      "erroring the mesh     \u001b[K                          \n",
      "erroring the mesh     \u001b[K                          \n",
      "erroring the mesh     \u001b[K                          \n",
      "building the mesh     \u001b[K                          \r"
     ]
    }
   ],
   "source": [
    "N = 21\n",
    "dotarr = np.linspace(1000, 3000, N)\n",
    "ci = np.zeros((N, 2,2))\n",
    "for i,dot in enumerate(dotarr):\n",
    "    try:\n",
    "        config.dots_sep = dot\n",
    "        pygds.gdsBuilder().build('screen')\n",
    "        pymph.build()\n",
    "        pymph.study()\n",
    "        ci[i,:,:] = config.cmatrix * 1e18\n",
    "    except:\n",
    "        print('error')\n",
    "np.savez(host_addr+'npz/double_dot_fscreen.npz', dotarr=dotarr, ci=ci)"
   ]
  },
  {
   "cell_type": "markdown",
   "id": "1e7c27c6-8d4b-4419-8652-7f6bde2aef0a",
   "metadata": {
    "tags": []
   },
   "source": [
    "## - partial screening gate"
   ]
  },
  {
   "cell_type": "code",
   "execution_count": null,
   "id": "0ba5ec5e-adc6-4e89-8e6b-fe361d5c2a9e",
   "metadata": {},
   "outputs": [],
   "source": [
    "config.numOfGDSlayers      = 7\n",
    "config.gds_addr            = host_addr + \"gds/double_dot_pscreen.gds\"\n",
    "config.substrate_layers    = ['InAlAs','InGaAs','InAs','InGaAs','InAlAs']       \n",
    "config.layer_thickness     = np.array([1500, 10.5, 4, 10.5, 120])   \n",
    "config.substrate_size      = 40e3\n",
    "config.dot_depth           = -134.5    \n",
    "config.etch_depth          = -134.5     \n",
    "config.qpc_depth           = 70\n",
    "config.plunger_depth       = -(4+10.5+120-70)\n",
    "config.screen_depth        = 35\n",
    "config.numOfdots           = 2\n",
    "config.dots_sep            = 2000\n",
    "config.metal_size          = 800\n",
    "config.trench_width        = 120\n",
    "config.trench_chamfer      = config.trench_width/(2*abs(config.etch_depth)+config.trench_width) \n",
    "config.mph_addr            = host_addr + \"mph/double_dot_pscreen.mph\"\n",
    "\n",
    "config.etch_params = [\n",
    "    {\"etch_name\": \"mesa_etch\", \"gdslayerID\": 0}\n",
    "]\n",
    "\n",
    "config.deposit_params = [\n",
    "    {\"thickness\": 4,   \"deposit_name\": 'dot'        , \"gdslayerID\": 5},\n",
    "    {\"thickness\": 100, \"deposit_name\": 'metal'      , \"gdslayerID\": 2},\n",
    "    {\"thickness\": 35,  \"deposit_name\": 'Al2O3'      , \"gdslayerID\": 4},\n",
    "    {\"thickness\": 35,  \"deposit_name\": 'metal_Al2O3', \"gdslayerID\": 2},\n",
    "    {\"thickness\": 35,  \"deposit_name\": 'Al2O3'      , \"gdslayerID\": 4},\n",
    "    {\"thickness\": 35,  \"deposit_name\": 'metal_Al2O3', \"gdslayerID\": 2}\n",
    "]\n",
    "\n",
    "config.gate_params = [\n",
    "    {\"gate_depth\": config.qpc_depth,     \"gate_name\": 'QPC',     \"gdslayerID\": 1},\n",
    "    {\"gate_depth\": config.plunger_depth, \"gate_name\": 'Plunger', \"gdslayerID\": 3},\n",
    "    {\"gate_depth\": config.screen_depth, \"gate_name\": 'screen', \"gdslayerID\": 6}\n",
    "]"
   ]
  },
  {
   "cell_type": "code",
   "execution_count": null,
   "id": "7b36d119-bce6-462b-8436-29bfdec7c750",
   "metadata": {},
   "outputs": [],
   "source": []
  },
  {
   "cell_type": "code",
   "execution_count": null,
   "id": "8ac08749-4f12-49d0-8fd8-5bd413e3f19d",
   "metadata": {},
   "outputs": [],
   "source": []
  },
  {
   "cell_type": "code",
   "execution_count": null,
   "id": "0354ae5f-eac5-4f66-88b1-8a3b79e8aabf",
   "metadata": {},
   "outputs": [],
   "source": []
  },
  {
   "cell_type": "markdown",
   "id": "3eccfa77-cf92-4c45-ac78-15a120fa0ebd",
   "metadata": {},
   "source": [
    "# Quadruple dots"
   ]
  },
  {
   "cell_type": "code",
   "execution_count": 84,
   "id": "c61bd316-7556-4fa4-8f8b-5c36576dab09",
   "metadata": {
    "tags": []
   },
   "outputs": [],
   "source": [
    "config.numOfGDSlayers      = 6\n",
    "config.gds_addr            = \"double_dot.gds\"\n",
    "config.substrate_layers    = ['InAlAs','InGaAs','InAs','InGaAs','InAlAs']       \n",
    "config.layer_thickness     = np.array([1500, 10.5, 4, 10.5, 120])   \n",
    "config.substrate_size      = 40e3\n",
    "config.dot_depth           = -134.5    \n",
    "config.etch_depth          = -134.5     \n",
    "config.qpc_depth           = 35\n",
    "config.plunger_depth       = -(4+10.5+120-35)\n",
    "config.numOfdots           = 4\n",
    "config.dots_sep            = 2000\n",
    "config.metal_size          = 800\n",
    "config.trench_width        = 120\n",
    "config.trench_chamfer      = config.trench_width/(2*abs(config.etch_depth)+config.trench_width) \n",
    "config.mph_addr            = \"quadruple_dot.mph\"\n",
    "\n",
    "config.etch_params = [\n",
    "    {\"etch_name\": \"mesa_etch\", \"gdslayerID\": 0}\n",
    "]\n",
    "\n",
    "config.deposit_params = [\n",
    "    {\"thickness\": 4,   \"deposit_name\": 'dot'        , \"gdslayerID\": 5},\n",
    "    {\"thickness\": 100, \"deposit_name\": 'metal'      , \"gdslayerID\": 2},\n",
    "    {\"thickness\": 35,  \"deposit_name\": 'Al2O3'      , \"gdslayerID\": 4},\n",
    "    {\"thickness\": 35,  \"deposit_name\": 'metal_Al2O3', \"gdslayerID\": 2}\n",
    "]\n",
    "\n",
    "config.gate_params = [\n",
    "    {\"gate_depth\": config.qpc_depth,     \"gate_name\": 'QPC',     \"gdslayerID\": 1},\n",
    "    {\"gate_depth\": config.plunger_depth, \"gate_name\": 'Plunger', \"gdslayerID\": 3}\n",
    "]"
   ]
  },
  {
   "cell_type": "code",
   "execution_count": 87,
   "id": "df4f465d-b705-434a-8799-ab9c07364c4f",
   "metadata": {
    "tags": []
   },
   "outputs": [
    {
     "name": "stdout",
     "output_type": "stream",
     "text": [
      "erroring the mesh     \u001b[K                          \n",
      "erroring the mesh     \u001b[K                          \n",
      "erroring the mesh     \u001b[K                          \n",
      "building the mesh     \u001b[K                          \r"
     ]
    }
   ],
   "source": [
    "N = 21\n",
    "dotarr = np.linspace(1000, 3000, N)\n",
    "ci = np.zeros((N, 4,4))\n",
    "for i,dot in enumerate(dotarr):\n",
    "    try:\n",
    "        config.dots_sep = dot\n",
    "        pygds.gdsBuilder().build()\n",
    "        pymph.build()\n",
    "        pymph.study()\n",
    "        ci[i,:,:] = config.cmatrix * 1e18\n",
    "    except:\n",
    "        print('error')\n",
    "np.savez('npz/four_dot.npz', dotarr=dotarr, ci=ci)"
   ]
  },
  {
   "cell_type": "code",
   "execution_count": null,
   "id": "7574ac9d-741e-4b18-a0aa-feed97c0b7d0",
   "metadata": {},
   "outputs": [],
   "source": []
  }
 ],
 "metadata": {
  "kernelspec": {
   "display_name": "Python 3 (ipykernel)",
   "language": "python",
   "name": "python3"
  },
  "language_info": {
   "codemirror_mode": {
    "name": "ipython",
    "version": 3
   },
   "file_extension": ".py",
   "mimetype": "text/x-python",
   "name": "python",
   "nbconvert_exporter": "python",
   "pygments_lexer": "ipython3",
   "version": "3.11.4"
  }
 },
 "nbformat": 4,
 "nbformat_minor": 5
}
